{
 "cells": [
  {
   "cell_type": "markdown",
   "metadata": {},
   "source": [
    "# Nuking a fly\n",
    "## (Proving quadratic reciprocity using algebraic number theory)\n",
    "\n",
    "From Daniel Marcus's Number Fields, we have the following:\n",
    "### Theorem 30\n",
    "#### (splitting and powers)\n",
    "Let $p$ be an odd prime, and let $q$ be any prime $\\neq p$. Fix a divisor $d$ of $p-1$, then $q$ is a $d$th power mod $p$ iff $q$ splits completely in the unique subfield of $\\mathbb{Q}[\\omega], \\ \\omega = e^{2 \\pi i / p}$ of order $d$ (denoted as $F_d$).\n",
    "### Lemma 1\n",
    "#### (quadratic subfield of $\\mathbb{Q}[\\omega_p]$)\n",
    "For odd, prime $p$, we have the following: $\\mathbb{Q}[\\sqrt{p}] \\subset \\mathbb{Q}[\\omega_p] \\iff p \\equiv 1 \\mod 4$ and $\\mathbb{Q}[\\sqrt{-p}] \\subset \\mathbb{Q}[\\omega_p] \\iff p \\equiv 3 \\mod 4$.\n",
    "\n",
    "### Theorem 25\n",
    "#### (ramification and splitting in quadratic fields)\n",
    "Let $R = \\mathbb{A} \\cap \\mathbb{Q}[\\sqrt{m}]$, where $m$ is a squarefree integer. Additionally, let $p$ be a regular prime of $\\mathbb{Z}$. Then we can characterize the ramification behavior of $P$ in $R$ as follows:\n",
    "\n",
    "\n",
    "If $p | m$, then \\[pR = (p, \\sqrt{m})^2\\].\n",
    "If $m$ is odd, then \\[ 2R = \\begin{cases} (2,1+\\sqrt{m})^2 \\ \\text{if} \\ m \\equiv 3 \\mod 4\\]  \n",
    "\n",
    "\n",
    "### Quadratic Reciprocity Law\n",
    "$\\left(\\frac2p\\right) = \\begin{cases} 1 \\ \\text{if} p \\equiv \\pm 1 \\mod 8 \\\\ -1 \\ \\text{if} p \\equiv \\pm 3 \\mod 8\\end{cases}$ and for odd primes $q \\neq p$ we have $\\left(\\frac{q}{p}\\right) = \\begin{cases} \\frac{p}{q} \\ \\text{if} p \\ \\text{or} \\ q \\equiv 1 \\mod 4 \\\\ -\\left(\\frac{p}{q}\\right) \\ \\text{if} \\ p \\equiv q \\equiv 3 \\mod 4\\end{cases}$"
   ]
  },
  {
   "cell_type": "markdown",
   "metadata": {},
   "source": [
    "### Proof\n",
    "Using Theorem 30, we have that $\\left( \\frac{q}{p} \\right) = 1$ iff $q$ splits completely in $F_2 \\subset \\mathbb{Q}[\\omega_p]$, and this $F_2$ is $\\mathbb{Q}[\\sqrt{p}]$ when $p \\equiv 1 \\mod 4$ and $\\mathbb{Q}[\\sqrt{-p}]$ when $p \\equiv 3 \\mod 4$."
   ]
  },
  {
   "cell_type": "code",
   "execution_count": null,
   "metadata": {},
   "outputs": [],
   "source": []
  }
 ],
 "metadata": {
  "kernelspec": {
   "display_name": "Python 3",
   "language": "python",
   "name": "python3"
  },
  "language_info": {
   "codemirror_mode": {
    "name": "ipython",
    "version": 3
   },
   "file_extension": ".py",
   "mimetype": "text/x-python",
   "name": "python",
   "nbconvert_exporter": "python",
   "pygments_lexer": "ipython3",
   "version": "3.8.2"
  }
 },
 "nbformat": 4,
 "nbformat_minor": 4
}